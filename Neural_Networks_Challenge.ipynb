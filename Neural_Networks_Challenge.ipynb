{
  "nbformat": 4,
  "nbformat_minor": 0,
  "metadata": {
    "kernelspec": {
      "display_name": "Python 3",
      "language": "python",
      "name": "python3"
    },
    "language_info": {
      "codemirror_mode": {
        "name": "ipython",
        "version": 3
      },
      "file_extension": ".py",
      "mimetype": "text/x-python",
      "name": "python",
      "nbconvert_exporter": "python",
      "pygments_lexer": "ipython3",
      "version": "3.6.5"
    },
    "colab": {
      "name": "Neural Networks Challenge",
      "version": "0.3.2",
      "provenance": [],
      "collapsed_sections": [
        "uVGWbZAzodcA",
        "M9SIcHpDodcM",
        "FBgFAgmcodcU",
        "9ytjV3fLodce"
      ],
      "include_colab_link": true
    }
  },
  "cells": [
    {
      "cell_type": "markdown",
      "metadata": {
        "id": "view-in-github",
        "colab_type": "text"
      },
      "source": [
        "<a href=\"https://colab.research.google.com/github/brunomoraisnc/neural-networks-challenge/blob/master/Neural_Networks_Challenge.ipynb\" target=\"_parent\"><img src=\"https://colab.research.google.com/assets/colab-badge.svg\" alt=\"Open In Colab\"/></a>"
      ]
    },
    {
      "cell_type": "markdown",
      "metadata": {
        "id": "RwSdqrUpoda-",
        "colab_type": "text"
      },
      "source": [
        "# DESAFIO\n",
        "## Bruno Morais Neves de Castro"
      ]
    },
    {
      "cell_type": "markdown",
      "metadata": {
        "id": "lhoIq1TpodbA",
        "colab_type": "text"
      },
      "source": [
        "# Sobre o dataset\n",
        "O dataset é composto por 130 amostras de indivíduos neurologicamente saudáveis e com Doença de Parkinson, sendo classificados como:\n",
        "- 0: indivíduos neurologicamente saudáveis\n",
        "- 1: indivíduos com Doença de Parkinson\n",
        "\n",
        "Para classificação, são utilizadas 408 características. As três com maior desvio-padrão serão separadas para treinamento e teste, bem como a coluna Class, que representa a classificação de cada amostra.\n",
        "\n",
        "Por fim, será calculada a precisão da arquitetura.\n",
        "\n"
      ]
    },
    {
      "cell_type": "markdown",
      "metadata": {
        "id": "ZiBfP5LxodbB",
        "colab_type": "text"
      },
      "source": [
        "# Imports"
      ]
    },
    {
      "cell_type": "code",
      "metadata": {
        "id": "xhgrGV_FodbB",
        "colab_type": "code",
        "outputId": "88501102-6f2d-4cac-ac88-58941ae02c18",
        "colab": {}
      },
      "source": [
        "import numpy as np\n",
        "import pandas as pd\n",
        "\n",
        "# Divisor de treino-teste e Classificador\n",
        "from sklearn.model_selection import train_test_split\n",
        "from sklearn.neural_network import MLPClassifier\n",
        "\n",
        "# Métricas\n",
        "from sklearn.cross_validation import cross_val_score\n",
        "from sklearn.metrics import mean_squared_error\n",
        "\n",
        "# Gráfico\n",
        "import matplotlib.pyplot as plt\n",
        "from sklearn.model_selection import learning_curve\n",
        "from sklearn.model_selection import ShuffleSplit\n",
        "\n",
        "%matplotlib inline"
      ],
      "execution_count": 0,
      "outputs": [
        {
          "output_type": "stream",
          "text": [
            "C:\\Users\\BM\\Anaconda3\\lib\\site-packages\\sklearn\\cross_validation.py:41: DeprecationWarning: This module was deprecated in version 0.18 in favor of the model_selection module into which all the refactored classes and functions are moved. Also note that the interface of the new CV iterators are different from that of this module. This module will be removed in 0.20.\n",
            "  \"This module will be removed in 0.20.\", DeprecationWarning)\n"
          ],
          "name": "stderr"
        }
      ]
    },
    {
      "cell_type": "markdown",
      "metadata": {
        "id": "m4qaKcsVodbH",
        "colab_type": "text"
      },
      "source": [
        "# Leitura de arquivo e análise primária"
      ]
    },
    {
      "cell_type": "code",
      "metadata": {
        "scrolled": true,
        "id": "DArZ92R3odbH",
        "colab_type": "code",
        "outputId": "d5f35ccb-de29-4819-9491-d8caefcda65b",
        "colab": {}
      },
      "source": [
        "# DataFrame.read_csv() para leitura do arquivo CSV\n",
        "df = pd.read_csv('dataset.csv')\n",
        "\n",
        "# DataFrame.head() pra visualização das primeiras 5 linhas\n",
        "df.head()"
      ],
      "execution_count": 0,
      "outputs": [
        {
          "output_type": "execute_result",
          "data": {
            "text/html": [
              "<div>\n",
              "<style scoped>\n",
              "    .dataframe tbody tr th:only-of-type {\n",
              "        vertical-align: middle;\n",
              "    }\n",
              "\n",
              "    .dataframe tbody tr th {\n",
              "        vertical-align: top;\n",
              "    }\n",
              "\n",
              "    .dataframe thead th {\n",
              "        text-align: right;\n",
              "    }\n",
              "</style>\n",
              "<table border=\"1\" class=\"dataframe\">\n",
              "  <thead>\n",
              "    <tr style=\"text-align: right;\">\n",
              "      <th></th>\n",
              "      <th>Sample</th>\n",
              "      <th>Class</th>\n",
              "      <th>Feat1</th>\n",
              "      <th>Feat2</th>\n",
              "      <th>Feat3</th>\n",
              "      <th>Feat4</th>\n",
              "      <th>Feat5</th>\n",
              "      <th>Feat6</th>\n",
              "      <th>Feat7</th>\n",
              "      <th>Feat8</th>\n",
              "      <th>...</th>\n",
              "      <th>Feat399</th>\n",
              "      <th>Feat400</th>\n",
              "      <th>Feat401</th>\n",
              "      <th>Feat402</th>\n",
              "      <th>Feat403</th>\n",
              "      <th>Feat404</th>\n",
              "      <th>Feat405</th>\n",
              "      <th>Feat406</th>\n",
              "      <th>Feat407</th>\n",
              "      <th>Feat408</th>\n",
              "    </tr>\n",
              "  </thead>\n",
              "  <tbody>\n",
              "    <tr>\n",
              "      <th>0</th>\n",
              "      <td>1</td>\n",
              "      <td>0</td>\n",
              "      <td>0.848430</td>\n",
              "      <td>0.976769</td>\n",
              "      <td>2.119157</td>\n",
              "      <td>0.401087</td>\n",
              "      <td>0.391817</td>\n",
              "      <td>0.209463</td>\n",
              "      <td>0.199892</td>\n",
              "      <td>1.711195</td>\n",
              "      <td>...</td>\n",
              "      <td>0.000180</td>\n",
              "      <td>0.521561</td>\n",
              "      <td>0.000022</td>\n",
              "      <td>7663.368074</td>\n",
              "      <td>0.000013</td>\n",
              "      <td>0.000052</td>\n",
              "      <td>0.000256</td>\n",
              "      <td>0.000042</td>\n",
              "      <td>1.731288e-09</td>\n",
              "      <td>0.840290</td>\n",
              "    </tr>\n",
              "    <tr>\n",
              "      <th>1</th>\n",
              "      <td>2</td>\n",
              "      <td>0</td>\n",
              "      <td>0.890184</td>\n",
              "      <td>1.027493</td>\n",
              "      <td>2.448104</td>\n",
              "      <td>0.417791</td>\n",
              "      <td>0.429628</td>\n",
              "      <td>0.207055</td>\n",
              "      <td>0.218954</td>\n",
              "      <td>1.823011</td>\n",
              "      <td>...</td>\n",
              "      <td>0.000357</td>\n",
              "      <td>0.593006</td>\n",
              "      <td>0.000036</td>\n",
              "      <td>5828.760675</td>\n",
              "      <td>0.000021</td>\n",
              "      <td>0.000071</td>\n",
              "      <td>0.000459</td>\n",
              "      <td>0.000060</td>\n",
              "      <td>3.629933e-09</td>\n",
              "      <td>0.882876</td>\n",
              "    </tr>\n",
              "    <tr>\n",
              "      <th>2</th>\n",
              "      <td>3</td>\n",
              "      <td>0</td>\n",
              "      <td>0.678620</td>\n",
              "      <td>0.813339</td>\n",
              "      <td>3.022167</td>\n",
              "      <td>0.447307</td>\n",
              "      <td>0.364194</td>\n",
              "      <td>0.283599</td>\n",
              "      <td>0.188001</td>\n",
              "      <td>1.319033</td>\n",
              "      <td>...</td>\n",
              "      <td>0.000283</td>\n",
              "      <td>0.585712</td>\n",
              "      <td>0.000031</td>\n",
              "      <td>6796.401968</td>\n",
              "      <td>0.000019</td>\n",
              "      <td>0.000054</td>\n",
              "      <td>0.000382</td>\n",
              "      <td>0.000053</td>\n",
              "      <td>2.840904e-09</td>\n",
              "      <td>0.707318</td>\n",
              "    </tr>\n",
              "    <tr>\n",
              "      <th>3</th>\n",
              "      <td>4</td>\n",
              "      <td>0</td>\n",
              "      <td>0.732323</td>\n",
              "      <td>0.846803</td>\n",
              "      <td>2.151257</td>\n",
              "      <td>0.393228</td>\n",
              "      <td>0.333159</td>\n",
              "      <td>0.236892</td>\n",
              "      <td>0.170046</td>\n",
              "      <td>1.388155</td>\n",
              "      <td>...</td>\n",
              "      <td>0.000231</td>\n",
              "      <td>0.656882</td>\n",
              "      <td>0.000033</td>\n",
              "      <td>7577.451642</td>\n",
              "      <td>0.000020</td>\n",
              "      <td>0.000059</td>\n",
              "      <td>0.000347</td>\n",
              "      <td>0.000051</td>\n",
              "      <td>2.577860e-09</td>\n",
              "      <td>1.085987</td>\n",
              "    </tr>\n",
              "    <tr>\n",
              "      <th>4</th>\n",
              "      <td>5</td>\n",
              "      <td>0</td>\n",
              "      <td>0.784659</td>\n",
              "      <td>0.892075</td>\n",
              "      <td>1.972922</td>\n",
              "      <td>0.370282</td>\n",
              "      <td>0.330593</td>\n",
              "      <td>0.211374</td>\n",
              "      <td>0.168490</td>\n",
              "      <td>1.627952</td>\n",
              "      <td>...</td>\n",
              "      <td>0.000314</td>\n",
              "      <td>0.645609</td>\n",
              "      <td>0.000048</td>\n",
              "      <td>5212.056293</td>\n",
              "      <td>0.000028</td>\n",
              "      <td>0.000083</td>\n",
              "      <td>0.000458</td>\n",
              "      <td>0.000074</td>\n",
              "      <td>5.461302e-09</td>\n",
              "      <td>1.095683</td>\n",
              "    </tr>\n",
              "  </tbody>\n",
              "</table>\n",
              "<p>5 rows × 410 columns</p>\n",
              "</div>"
            ],
            "text/plain": [
              "   Sample  Class     Feat1     Feat2     Feat3     Feat4     Feat5     Feat6  \\\n",
              "0       1      0  0.848430  0.976769  2.119157  0.401087  0.391817  0.209463   \n",
              "1       2      0  0.890184  1.027493  2.448104  0.417791  0.429628  0.207055   \n",
              "2       3      0  0.678620  0.813339  3.022167  0.447307  0.364194  0.283599   \n",
              "3       4      0  0.732323  0.846803  2.151257  0.393228  0.333159  0.236892   \n",
              "4       5      0  0.784659  0.892075  1.972922  0.370282  0.330593  0.211374   \n",
              "\n",
              "      Feat7     Feat8    ...      Feat399   Feat400   Feat401      Feat402  \\\n",
              "0  0.199892  1.711195    ...     0.000180  0.521561  0.000022  7663.368074   \n",
              "1  0.218954  1.823011    ...     0.000357  0.593006  0.000036  5828.760675   \n",
              "2  0.188001  1.319033    ...     0.000283  0.585712  0.000031  6796.401968   \n",
              "3  0.170046  1.388155    ...     0.000231  0.656882  0.000033  7577.451642   \n",
              "4  0.168490  1.627952    ...     0.000314  0.645609  0.000048  5212.056293   \n",
              "\n",
              "    Feat403   Feat404   Feat405   Feat406       Feat407   Feat408  \n",
              "0  0.000013  0.000052  0.000256  0.000042  1.731288e-09  0.840290  \n",
              "1  0.000021  0.000071  0.000459  0.000060  3.629933e-09  0.882876  \n",
              "2  0.000019  0.000054  0.000382  0.000053  2.840904e-09  0.707318  \n",
              "3  0.000020  0.000059  0.000347  0.000051  2.577860e-09  1.085987  \n",
              "4  0.000028  0.000083  0.000458  0.000074  5.461302e-09  1.095683  \n",
              "\n",
              "[5 rows x 410 columns]"
            ]
          },
          "metadata": {
            "tags": []
          },
          "execution_count": 2
        }
      ]
    },
    {
      "cell_type": "code",
      "metadata": {
        "id": "tNoaEyvModbK",
        "colab_type": "code",
        "outputId": "d4640ae5-7d1c-4ec0-cc67-c8b63c06edf5",
        "colab": {}
      },
      "source": [
        "df.tail()"
      ],
      "execution_count": 0,
      "outputs": [
        {
          "output_type": "execute_result",
          "data": {
            "text/html": [
              "<div>\n",
              "<style scoped>\n",
              "    .dataframe tbody tr th:only-of-type {\n",
              "        vertical-align: middle;\n",
              "    }\n",
              "\n",
              "    .dataframe tbody tr th {\n",
              "        vertical-align: top;\n",
              "    }\n",
              "\n",
              "    .dataframe thead th {\n",
              "        text-align: right;\n",
              "    }\n",
              "</style>\n",
              "<table border=\"1\" class=\"dataframe\">\n",
              "  <thead>\n",
              "    <tr style=\"text-align: right;\">\n",
              "      <th></th>\n",
              "      <th>Sample</th>\n",
              "      <th>Class</th>\n",
              "      <th>Feat1</th>\n",
              "      <th>Feat2</th>\n",
              "      <th>Feat3</th>\n",
              "      <th>Feat4</th>\n",
              "      <th>Feat5</th>\n",
              "      <th>Feat6</th>\n",
              "      <th>Feat7</th>\n",
              "      <th>Feat8</th>\n",
              "      <th>...</th>\n",
              "      <th>Feat399</th>\n",
              "      <th>Feat400</th>\n",
              "      <th>Feat401</th>\n",
              "      <th>Feat402</th>\n",
              "      <th>Feat403</th>\n",
              "      <th>Feat404</th>\n",
              "      <th>Feat405</th>\n",
              "      <th>Feat406</th>\n",
              "      <th>Feat407</th>\n",
              "      <th>Feat408</th>\n",
              "    </tr>\n",
              "  </thead>\n",
              "  <tbody>\n",
              "    <tr>\n",
              "      <th>125</th>\n",
              "      <td>126</td>\n",
              "      <td>0</td>\n",
              "      <td>0.569157</td>\n",
              "      <td>0.682674</td>\n",
              "      <td>2.063113</td>\n",
              "      <td>0.423187</td>\n",
              "      <td>0.289064</td>\n",
              "      <td>0.333461</td>\n",
              "      <td>0.155585</td>\n",
              "      <td>1.090291</td>\n",
              "      <td>...</td>\n",
              "      <td>0.000429</td>\n",
              "      <td>0.326235</td>\n",
              "      <td>0.000043</td>\n",
              "      <td>1373.053576</td>\n",
              "      <td>0.000024</td>\n",
              "      <td>0.000205</td>\n",
              "      <td>0.000733</td>\n",
              "      <td>0.000133</td>\n",
              "      <td>1.756993e-08</td>\n",
              "      <td>0.819280</td>\n",
              "    </tr>\n",
              "    <tr>\n",
              "      <th>126</th>\n",
              "      <td>127</td>\n",
              "      <td>0</td>\n",
              "      <td>0.501284</td>\n",
              "      <td>0.613063</td>\n",
              "      <td>2.231598</td>\n",
              "      <td>0.493062</td>\n",
              "      <td>0.302094</td>\n",
              "      <td>0.445738</td>\n",
              "      <td>0.167325</td>\n",
              "      <td>0.923001</td>\n",
              "      <td>...</td>\n",
              "      <td>0.000340</td>\n",
              "      <td>0.259205</td>\n",
              "      <td>0.000036</td>\n",
              "      <td>1023.295014</td>\n",
              "      <td>0.000020</td>\n",
              "      <td>0.000239</td>\n",
              "      <td>0.000598</td>\n",
              "      <td>0.000139</td>\n",
              "      <td>1.926374e-08</td>\n",
              "      <td>0.690093</td>\n",
              "    </tr>\n",
              "    <tr>\n",
              "      <th>127</th>\n",
              "      <td>128</td>\n",
              "      <td>0</td>\n",
              "      <td>0.642330</td>\n",
              "      <td>0.743330</td>\n",
              "      <td>2.391205</td>\n",
              "      <td>0.386707</td>\n",
              "      <td>0.287513</td>\n",
              "      <td>0.276608</td>\n",
              "      <td>0.152903</td>\n",
              "      <td>1.314005</td>\n",
              "      <td>...</td>\n",
              "      <td>0.000611</td>\n",
              "      <td>0.340910</td>\n",
              "      <td>0.000042</td>\n",
              "      <td>1536.575225</td>\n",
              "      <td>0.000024</td>\n",
              "      <td>0.000171</td>\n",
              "      <td>0.000843</td>\n",
              "      <td>0.000124</td>\n",
              "      <td>1.537096e-08</td>\n",
              "      <td>0.827274</td>\n",
              "    </tr>\n",
              "    <tr>\n",
              "      <th>128</th>\n",
              "      <td>129</td>\n",
              "      <td>0</td>\n",
              "      <td>0.608932</td>\n",
              "      <td>0.710863</td>\n",
              "      <td>1.730564</td>\n",
              "      <td>0.369910</td>\n",
              "      <td>0.263210</td>\n",
              "      <td>0.283049</td>\n",
              "      <td>0.143309</td>\n",
              "      <td>1.223391</td>\n",
              "      <td>...</td>\n",
              "      <td>0.000550</td>\n",
              "      <td>0.235875</td>\n",
              "      <td>0.000046</td>\n",
              "      <td>668.175357</td>\n",
              "      <td>0.000025</td>\n",
              "      <td>0.000315</td>\n",
              "      <td>0.000856</td>\n",
              "      <td>0.000195</td>\n",
              "      <td>3.800515e-08</td>\n",
              "      <td>0.636331</td>\n",
              "    </tr>\n",
              "    <tr>\n",
              "      <th>129</th>\n",
              "      <td>130</td>\n",
              "      <td>0</td>\n",
              "      <td>0.509642</td>\n",
              "      <td>0.599982</td>\n",
              "      <td>1.592072</td>\n",
              "      <td>0.392971</td>\n",
              "      <td>0.235870</td>\n",
              "      <td>0.357336</td>\n",
              "      <td>0.128737</td>\n",
              "      <td>1.015288</td>\n",
              "      <td>...</td>\n",
              "      <td>0.000405</td>\n",
              "      <td>0.298547</td>\n",
              "      <td>0.000038</td>\n",
              "      <td>1347.289354</td>\n",
              "      <td>0.000021</td>\n",
              "      <td>0.000183</td>\n",
              "      <td>0.000640</td>\n",
              "      <td>0.000126</td>\n",
              "      <td>1.583946e-08</td>\n",
              "      <td>0.745375</td>\n",
              "    </tr>\n",
              "  </tbody>\n",
              "</table>\n",
              "<p>5 rows × 410 columns</p>\n",
              "</div>"
            ],
            "text/plain": [
              "     Sample  Class     Feat1     Feat2     Feat3     Feat4     Feat5  \\\n",
              "125     126      0  0.569157  0.682674  2.063113  0.423187  0.289064   \n",
              "126     127      0  0.501284  0.613063  2.231598  0.493062  0.302094   \n",
              "127     128      0  0.642330  0.743330  2.391205  0.386707  0.287513   \n",
              "128     129      0  0.608932  0.710863  1.730564  0.369910  0.263210   \n",
              "129     130      0  0.509642  0.599982  1.592072  0.392971  0.235870   \n",
              "\n",
              "        Feat6     Feat7     Feat8    ...      Feat399   Feat400   Feat401  \\\n",
              "125  0.333461  0.155585  1.090291    ...     0.000429  0.326235  0.000043   \n",
              "126  0.445738  0.167325  0.923001    ...     0.000340  0.259205  0.000036   \n",
              "127  0.276608  0.152903  1.314005    ...     0.000611  0.340910  0.000042   \n",
              "128  0.283049  0.143309  1.223391    ...     0.000550  0.235875  0.000046   \n",
              "129  0.357336  0.128737  1.015288    ...     0.000405  0.298547  0.000038   \n",
              "\n",
              "         Feat402   Feat403   Feat404   Feat405   Feat406       Feat407  \\\n",
              "125  1373.053576  0.000024  0.000205  0.000733  0.000133  1.756993e-08   \n",
              "126  1023.295014  0.000020  0.000239  0.000598  0.000139  1.926374e-08   \n",
              "127  1536.575225  0.000024  0.000171  0.000843  0.000124  1.537096e-08   \n",
              "128   668.175357  0.000025  0.000315  0.000856  0.000195  3.800515e-08   \n",
              "129  1347.289354  0.000021  0.000183  0.000640  0.000126  1.583946e-08   \n",
              "\n",
              "      Feat408  \n",
              "125  0.819280  \n",
              "126  0.690093  \n",
              "127  0.827274  \n",
              "128  0.636331  \n",
              "129  0.745375  \n",
              "\n",
              "[5 rows x 410 columns]"
            ]
          },
          "metadata": {
            "tags": []
          },
          "execution_count": 3
        }
      ]
    },
    {
      "cell_type": "code",
      "metadata": {
        "scrolled": false,
        "id": "re0WzP4aodbN",
        "colab_type": "code",
        "outputId": "416946a1-0ec9-4e0f-ff78-6a2eb38d30d6",
        "colab": {}
      },
      "source": [
        "# Apresenta a forma do dataframe (linhas, colunas)\n",
        "print('-> O dataset apresenta %s linhas e %s colunas' % (df.shape[0], df.shape[1]))"
      ],
      "execution_count": 0,
      "outputs": [
        {
          "output_type": "stream",
          "text": [
            "-> O dataset apresenta 130 linhas e 410 colunas\n"
          ],
          "name": "stdout"
        }
      ]
    },
    {
      "cell_type": "code",
      "metadata": {
        "id": "LQGPUhcqodbQ",
        "colab_type": "code",
        "outputId": "335b0a9b-a28f-4158-ef8e-8dcb10f2cead",
        "colab": {}
      },
      "source": [
        "df.info()"
      ],
      "execution_count": 0,
      "outputs": [
        {
          "output_type": "stream",
          "text": [
            "<class 'pandas.core.frame.DataFrame'>\n",
            "RangeIndex: 130 entries, 0 to 129\n",
            "Columns: 410 entries, Sample to Feat408\n",
            "dtypes: float64(408), int64(2)\n",
            "memory usage: 416.5 KB\n"
          ],
          "name": "stdout"
        }
      ]
    },
    {
      "cell_type": "code",
      "metadata": {
        "id": "q_Es1jePodbT",
        "colab_type": "code",
        "outputId": "59a1296c-b625-48ea-dd8c-4b73895e8c5c",
        "colab": {}
      },
      "source": [
        "df.describe()"
      ],
      "execution_count": 0,
      "outputs": [
        {
          "output_type": "execute_result",
          "data": {
            "text/html": [
              "<div>\n",
              "<style scoped>\n",
              "    .dataframe tbody tr th:only-of-type {\n",
              "        vertical-align: middle;\n",
              "    }\n",
              "\n",
              "    .dataframe tbody tr th {\n",
              "        vertical-align: top;\n",
              "    }\n",
              "\n",
              "    .dataframe thead th {\n",
              "        text-align: right;\n",
              "    }\n",
              "</style>\n",
              "<table border=\"1\" class=\"dataframe\">\n",
              "  <thead>\n",
              "    <tr style=\"text-align: right;\">\n",
              "      <th></th>\n",
              "      <th>Sample</th>\n",
              "      <th>Class</th>\n",
              "      <th>Feat1</th>\n",
              "      <th>Feat2</th>\n",
              "      <th>Feat3</th>\n",
              "      <th>Feat4</th>\n",
              "      <th>Feat5</th>\n",
              "      <th>Feat6</th>\n",
              "      <th>Feat7</th>\n",
              "      <th>Feat8</th>\n",
              "      <th>...</th>\n",
              "      <th>Feat399</th>\n",
              "      <th>Feat400</th>\n",
              "      <th>Feat401</th>\n",
              "      <th>Feat402</th>\n",
              "      <th>Feat403</th>\n",
              "      <th>Feat404</th>\n",
              "      <th>Feat405</th>\n",
              "      <th>Feat406</th>\n",
              "      <th>Feat407</th>\n",
              "      <th>Feat408</th>\n",
              "    </tr>\n",
              "  </thead>\n",
              "  <tbody>\n",
              "    <tr>\n",
              "      <th>count</th>\n",
              "      <td>130.000000</td>\n",
              "      <td>130.000000</td>\n",
              "      <td>130.000000</td>\n",
              "      <td>130.000000</td>\n",
              "      <td>130.000000</td>\n",
              "      <td>130.000000</td>\n",
              "      <td>130.000000</td>\n",
              "      <td>130.000000</td>\n",
              "      <td>130.000000</td>\n",
              "      <td>130.000000</td>\n",
              "      <td>...</td>\n",
              "      <td>130.000000</td>\n",
              "      <td>130.000000</td>\n",
              "      <td>130.000000</td>\n",
              "      <td>130.000000</td>\n",
              "      <td>130.000000</td>\n",
              "      <td>130.000000</td>\n",
              "      <td>130.000000</td>\n",
              "      <td>130.000000</td>\n",
              "      <td>1.300000e+02</td>\n",
              "      <td>130.000000</td>\n",
              "    </tr>\n",
              "    <tr>\n",
              "      <th>mean</th>\n",
              "      <td>65.500000</td>\n",
              "      <td>0.615385</td>\n",
              "      <td>0.592610</td>\n",
              "      <td>0.710024</td>\n",
              "      <td>2.149688</td>\n",
              "      <td>0.476573</td>\n",
              "      <td>0.335603</td>\n",
              "      <td>0.456709</td>\n",
              "      <td>0.181947</td>\n",
              "      <td>1.110362</td>\n",
              "      <td>...</td>\n",
              "      <td>0.000485</td>\n",
              "      <td>0.674909</td>\n",
              "      <td>0.000087</td>\n",
              "      <td>3759.917748</td>\n",
              "      <td>0.000051</td>\n",
              "      <td>0.000184</td>\n",
              "      <td>0.000835</td>\n",
              "      <td>0.000142</td>\n",
              "      <td>3.038975e-08</td>\n",
              "      <td>0.962892</td>\n",
              "    </tr>\n",
              "    <tr>\n",
              "      <th>std</th>\n",
              "      <td>37.671829</td>\n",
              "      <td>0.488386</td>\n",
              "      <td>0.245061</td>\n",
              "      <td>0.282331</td>\n",
              "      <td>0.842607</td>\n",
              "      <td>0.172285</td>\n",
              "      <td>0.161663</td>\n",
              "      <td>0.345127</td>\n",
              "      <td>0.087964</td>\n",
              "      <td>0.494658</td>\n",
              "      <td>...</td>\n",
              "      <td>0.000481</td>\n",
              "      <td>0.279323</td>\n",
              "      <td>0.000044</td>\n",
              "      <td>2268.586194</td>\n",
              "      <td>0.000026</td>\n",
              "      <td>0.000100</td>\n",
              "      <td>0.000662</td>\n",
              "      <td>0.000101</td>\n",
              "      <td>8.076238e-08</td>\n",
              "      <td>0.237337</td>\n",
              "    </tr>\n",
              "    <tr>\n",
              "      <th>min</th>\n",
              "      <td>1.000000</td>\n",
              "      <td>0.000000</td>\n",
              "      <td>0.119649</td>\n",
              "      <td>0.164174</td>\n",
              "      <td>0.536380</td>\n",
              "      <td>0.236233</td>\n",
              "      <td>0.063104</td>\n",
              "      <td>0.167250</td>\n",
              "      <td>0.033213</td>\n",
              "      <td>0.185097</td>\n",
              "      <td>...</td>\n",
              "      <td>0.000144</td>\n",
              "      <td>0.136910</td>\n",
              "      <td>0.000014</td>\n",
              "      <td>111.275258</td>\n",
              "      <td>0.000008</td>\n",
              "      <td>0.000011</td>\n",
              "      <td>0.000230</td>\n",
              "      <td>0.000030</td>\n",
              "      <td>8.718087e-10</td>\n",
              "      <td>0.267001</td>\n",
              "    </tr>\n",
              "    <tr>\n",
              "      <th>25%</th>\n",
              "      <td>33.250000</td>\n",
              "      <td>0.000000</td>\n",
              "      <td>0.415391</td>\n",
              "      <td>0.500463</td>\n",
              "      <td>1.469270</td>\n",
              "      <td>0.370003</td>\n",
              "      <td>0.221992</td>\n",
              "      <td>0.247132</td>\n",
              "      <td>0.118044</td>\n",
              "      <td>0.752947</td>\n",
              "      <td>...</td>\n",
              "      <td>0.000317</td>\n",
              "      <td>0.422467</td>\n",
              "      <td>0.000046</td>\n",
              "      <td>1842.965762</td>\n",
              "      <td>0.000025</td>\n",
              "      <td>0.000128</td>\n",
              "      <td>0.000584</td>\n",
              "      <td>0.000098</td>\n",
              "      <td>9.646321e-09</td>\n",
              "      <td>0.807635</td>\n",
              "    </tr>\n",
              "    <tr>\n",
              "      <th>50%</th>\n",
              "      <td>65.500000</td>\n",
              "      <td>1.000000</td>\n",
              "      <td>0.609830</td>\n",
              "      <td>0.729982</td>\n",
              "      <td>2.134605</td>\n",
              "      <td>0.428900</td>\n",
              "      <td>0.329895</td>\n",
              "      <td>0.326057</td>\n",
              "      <td>0.178006</td>\n",
              "      <td>1.124824</td>\n",
              "      <td>...</td>\n",
              "      <td>0.000389</td>\n",
              "      <td>0.704491</td>\n",
              "      <td>0.000089</td>\n",
              "      <td>3676.042069</td>\n",
              "      <td>0.000053</td>\n",
              "      <td>0.000168</td>\n",
              "      <td>0.000695</td>\n",
              "      <td>0.000123</td>\n",
              "      <td>1.525041e-08</td>\n",
              "      <td>1.036417</td>\n",
              "    </tr>\n",
              "    <tr>\n",
              "      <th>75%</th>\n",
              "      <td>97.750000</td>\n",
              "      <td>1.000000</td>\n",
              "      <td>0.737808</td>\n",
              "      <td>0.882975</td>\n",
              "      <td>2.634550</td>\n",
              "      <td>0.505998</td>\n",
              "      <td>0.437823</td>\n",
              "      <td>0.532868</td>\n",
              "      <td>0.232032</td>\n",
              "      <td>1.387620</td>\n",
              "      <td>...</td>\n",
              "      <td>0.000529</td>\n",
              "      <td>0.915883</td>\n",
              "      <td>0.000116</td>\n",
              "      <td>5266.909375</td>\n",
              "      <td>0.000068</td>\n",
              "      <td>0.000233</td>\n",
              "      <td>0.000939</td>\n",
              "      <td>0.000165</td>\n",
              "      <td>2.707022e-08</td>\n",
              "      <td>1.148405</td>\n",
              "    </tr>\n",
              "    <tr>\n",
              "      <th>max</th>\n",
              "      <td>130.000000</td>\n",
              "      <td>1.000000</td>\n",
              "      <td>1.361999</td>\n",
              "      <td>1.569427</td>\n",
              "      <td>5.111346</td>\n",
              "      <td>1.018624</td>\n",
              "      <td>0.841293</td>\n",
              "      <td>1.878176</td>\n",
              "      <td>0.436771</td>\n",
              "      <td>2.619333</td>\n",
              "      <td>...</td>\n",
              "      <td>0.005311</td>\n",
              "      <td>1.237924</td>\n",
              "      <td>0.000192</td>\n",
              "      <td>10543.302620</td>\n",
              "      <td>0.000110</td>\n",
              "      <td>0.000593</td>\n",
              "      <td>0.006908</td>\n",
              "      <td>0.000884</td>\n",
              "      <td>7.807907e-07</td>\n",
              "      <td>1.365530</td>\n",
              "    </tr>\n",
              "  </tbody>\n",
              "</table>\n",
              "<p>8 rows × 410 columns</p>\n",
              "</div>"
            ],
            "text/plain": [
              "           Sample       Class       Feat1       Feat2       Feat3       Feat4  \\\n",
              "count  130.000000  130.000000  130.000000  130.000000  130.000000  130.000000   \n",
              "mean    65.500000    0.615385    0.592610    0.710024    2.149688    0.476573   \n",
              "std     37.671829    0.488386    0.245061    0.282331    0.842607    0.172285   \n",
              "min      1.000000    0.000000    0.119649    0.164174    0.536380    0.236233   \n",
              "25%     33.250000    0.000000    0.415391    0.500463    1.469270    0.370003   \n",
              "50%     65.500000    1.000000    0.609830    0.729982    2.134605    0.428900   \n",
              "75%     97.750000    1.000000    0.737808    0.882975    2.634550    0.505998   \n",
              "max    130.000000    1.000000    1.361999    1.569427    5.111346    1.018624   \n",
              "\n",
              "            Feat5       Feat6       Feat7       Feat8     ...         Feat399  \\\n",
              "count  130.000000  130.000000  130.000000  130.000000     ...      130.000000   \n",
              "mean     0.335603    0.456709    0.181947    1.110362     ...        0.000485   \n",
              "std      0.161663    0.345127    0.087964    0.494658     ...        0.000481   \n",
              "min      0.063104    0.167250    0.033213    0.185097     ...        0.000144   \n",
              "25%      0.221992    0.247132    0.118044    0.752947     ...        0.000317   \n",
              "50%      0.329895    0.326057    0.178006    1.124824     ...        0.000389   \n",
              "75%      0.437823    0.532868    0.232032    1.387620     ...        0.000529   \n",
              "max      0.841293    1.878176    0.436771    2.619333     ...        0.005311   \n",
              "\n",
              "          Feat400     Feat401       Feat402     Feat403     Feat404  \\\n",
              "count  130.000000  130.000000    130.000000  130.000000  130.000000   \n",
              "mean     0.674909    0.000087   3759.917748    0.000051    0.000184   \n",
              "std      0.279323    0.000044   2268.586194    0.000026    0.000100   \n",
              "min      0.136910    0.000014    111.275258    0.000008    0.000011   \n",
              "25%      0.422467    0.000046   1842.965762    0.000025    0.000128   \n",
              "50%      0.704491    0.000089   3676.042069    0.000053    0.000168   \n",
              "75%      0.915883    0.000116   5266.909375    0.000068    0.000233   \n",
              "max      1.237924    0.000192  10543.302620    0.000110    0.000593   \n",
              "\n",
              "          Feat405     Feat406       Feat407     Feat408  \n",
              "count  130.000000  130.000000  1.300000e+02  130.000000  \n",
              "mean     0.000835    0.000142  3.038975e-08    0.962892  \n",
              "std      0.000662    0.000101  8.076238e-08    0.237337  \n",
              "min      0.000230    0.000030  8.718087e-10    0.267001  \n",
              "25%      0.000584    0.000098  9.646321e-09    0.807635  \n",
              "50%      0.000695    0.000123  1.525041e-08    1.036417  \n",
              "75%      0.000939    0.000165  2.707022e-08    1.148405  \n",
              "max      0.006908    0.000884  7.807907e-07    1.365530  \n",
              "\n",
              "[8 rows x 410 columns]"
            ]
          },
          "metadata": {
            "tags": []
          },
          "execution_count": 6
        }
      ]
    },
    {
      "cell_type": "code",
      "metadata": {
        "id": "X--JU6ThodbX",
        "colab_type": "code",
        "outputId": "732cc422-b93f-4d65-8602-a5709d6b5124",
        "colab": {}
      },
      "source": [
        "# Checar se há colunas com quantidade de amostra diferente de 130\n",
        "linhaCount = df.describe().loc['count', :]\n",
        "print(linhaCount[linhaCount != 130])\n",
        "print('-> Não há colunas com quantidade de amostra diferente de 130')"
      ],
      "execution_count": 0,
      "outputs": [
        {
          "output_type": "stream",
          "text": [
            "Series([], Name: count, dtype: float64)\n",
            "-> Não há colunas com quantidade de amostra diferente de 130\n"
          ],
          "name": "stdout"
        }
      ]
    },
    {
      "cell_type": "code",
      "metadata": {
        "id": "ev3v8i-Aodba",
        "colab_type": "code",
        "outputId": "ad3ed483-bbad-4f77-ec2c-73bc8807d3b3",
        "colab": {}
      },
      "source": [
        "# Quantidade de indivíduos com o sem Doença de Parkinson\n",
        "classe = df.loc[:, 'Class'].values\n",
        "\n",
        "plt.clf()\n",
        "\n",
        "plt.hist(classe, bins=3)\n",
        "plt.xticks([0,1], ('Sem DP', 'Com DP'));\n",
        "\n",
        "plt.title('Quantidade DP vs Sem DP')\n",
        "plt.xlabel('Classe')\n",
        "plt.ylabel('Quantidade')\n",
        "\n",
        "plt.grid(True)\n",
        "\n",
        "plt.show()"
      ],
      "execution_count": 0,
      "outputs": [
        {
          "output_type": "display_data",
          "data": {
            "image/png": "[encoded data removed]",
            "text/plain": [
              "<Figure size 432x288 with 1 Axes>"
            ]
          },
          "metadata": {
            "tags": []
          }
        }
      ]
    },
    {
      "cell_type": "markdown",
      "metadata": {
        "id": "j5Jt4P0Codbd",
        "colab_type": "text"
      },
      "source": [
        "# Data Cleaning"
      ]
    },
    {
      "cell_type": "code",
      "metadata": {
        "id": "TxpCF0v7odbe",
        "colab_type": "code",
        "colab": {}
      },
      "source": [
        "# Para deletar a coluna sample:\n",
        "df.drop(axis=1, columns='Sample', inplace=True)\n",
        "\n",
        "# Observação:\n",
        "# após a primeira execução, pode apresentar erro, pois a coluna Sample é deletada inplace."
      ],
      "execution_count": 0,
      "outputs": []
    },
    {
      "cell_type": "code",
      "metadata": {
        "id": "R8bnHRSFodbg",
        "colab_type": "code",
        "outputId": "ada37589-1359-4808-d1c2-fdff47083032",
        "colab": {}
      },
      "source": [
        "# Deletar linha duplicada\n",
        "df.drop_duplicates(inplace=True)\n",
        "print(df.shape)"
      ],
      "execution_count": 0,
      "outputs": [
        {
          "output_type": "stream",
          "text": [
            "(130, 409)\n"
          ],
          "name": "stdout"
        }
      ]
    },
    {
      "cell_type": "code",
      "metadata": {
        "id": "NiRCtgQ7odbi",
        "colab_type": "code",
        "colab": {}
      },
      "source": [
        "# Para coletar o desvio-padrão por coluna\n",
        "planilha = df.describe()\n",
        "\n",
        "# Separação dos índices de média (mean) e desvio-padrão (std)\n",
        "indices = ['mean', 'std']\n",
        "\n",
        "# Seleção de linhas atribuídas na variável indices e todas as colunas do dataframe, exceto Class\n",
        "planilhaMediaSTD = planilha.loc[indices, :]\n",
        "planilhaMediaSTD.drop(axis=1, columns='Class', inplace=True)"
      ],
      "execution_count": 0,
      "outputs": []
    },
    {
      "cell_type": "code",
      "metadata": {
        "id": "hHzFZh4_odbk",
        "colab_type": "code",
        "colab": {}
      },
      "source": [
        "# Para salvar em CSV:\n",
        "#\n",
        "# planilhaMediaSTD.to_csv('desvio_padrao_e_media.csv', sep=',')"
      ],
      "execution_count": 0,
      "outputs": []
    },
    {
      "cell_type": "code",
      "metadata": {
        "id": "Hr8-ovP4odbm",
        "colab_type": "code",
        "outputId": "8b35f094-b1c7-4a87-b21d-1ce7325aa806",
        "colab": {}
      },
      "source": [
        "# Para checar se há valores negativos\n",
        "print('Valor mínimo da linha min: {}'.format(min(planilha.loc['min',:])))\n",
        "\n",
        "if min(planilha.loc['min',:]) >= 0:\n",
        "    print('-> Não há valor negativo')\n",
        "else:\n",
        "    print('-> Há valor negativo')"
      ],
      "execution_count": 0,
      "outputs": [
        {
          "output_type": "stream",
          "text": [
            "Valor mínimo da linha min: 0.0\n",
            "-> Não há valor negativo\n"
          ],
          "name": "stdout"
        }
      ]
    },
    {
      "cell_type": "code",
      "metadata": {
        "scrolled": true,
        "id": "uyHHaV_Hodbq",
        "colab_type": "code",
        "outputId": "eb515e9f-2426-4ee3-b415-d302e2a5394d",
        "colab": {}
      },
      "source": [
        "# Para descobrir quais as colunas com maior desvio-padrão\n",
        "planilhaMediaSTD.sort_values(axis=1, by='std', ascending=False)"
      ],
      "execution_count": 0,
      "outputs": [
        {
          "output_type": "execute_result",
          "data": {
            "text/html": [
              "<div>\n",
              "<style scoped>\n",
              "    .dataframe tbody tr th:only-of-type {\n",
              "        vertical-align: middle;\n",
              "    }\n",
              "\n",
              "    .dataframe tbody tr th {\n",
              "        vertical-align: top;\n",
              "    }\n",
              "\n",
              "    .dataframe thead th {\n",
              "        text-align: right;\n",
              "    }\n",
              "</style>\n",
              "<table border=\"1\" class=\"dataframe\">\n",
              "  <thead>\n",
              "    <tr style=\"text-align: right;\">\n",
              "      <th></th>\n",
              "      <th>Feat342</th>\n",
              "      <th>Feat402</th>\n",
              "      <th>Feat354</th>\n",
              "      <th>Feat294</th>\n",
              "      <th>Feat390</th>\n",
              "      <th>Feat366</th>\n",
              "      <th>Feat246</th>\n",
              "      <th>Feat306</th>\n",
              "      <th>Feat318</th>\n",
              "      <th>Feat378</th>\n",
              "      <th>...</th>\n",
              "      <th>Feat299</th>\n",
              "      <th>Feat335</th>\n",
              "      <th>Feat311</th>\n",
              "      <th>Feat323</th>\n",
              "      <th>Feat395</th>\n",
              "      <th>Feat383</th>\n",
              "      <th>Feat359</th>\n",
              "      <th>Feat371</th>\n",
              "      <th>Feat347</th>\n",
              "      <th>Feat407</th>\n",
              "    </tr>\n",
              "  </thead>\n",
              "  <tbody>\n",
              "    <tr>\n",
              "      <th>mean</th>\n",
              "      <td>1223.825146</td>\n",
              "      <td>3759.917748</td>\n",
              "      <td>858.977468</td>\n",
              "      <td>783.661128</td>\n",
              "      <td>2208.712808</td>\n",
              "      <td>593.899584</td>\n",
              "      <td>855.595786</td>\n",
              "      <td>476.655168</td>\n",
              "      <td>352.901401</td>\n",
              "      <td>415.126172</td>\n",
              "      <td>...</td>\n",
              "      <td>2.733366e-07</td>\n",
              "      <td>3.178240e-07</td>\n",
              "      <td>2.142201e-07</td>\n",
              "      <td>3.032842e-07</td>\n",
              "      <td>7.477859e-08</td>\n",
              "      <td>2.027164e-07</td>\n",
              "      <td>1.290015e-07</td>\n",
              "      <td>1.306024e-07</td>\n",
              "      <td>1.116671e-07</td>\n",
              "      <td>3.038975e-08</td>\n",
              "    </tr>\n",
              "    <tr>\n",
              "      <th>std</th>\n",
              "      <td>3464.299694</td>\n",
              "      <td>2268.586194</td>\n",
              "      <td>2138.170952</td>\n",
              "      <td>1373.010706</td>\n",
              "      <td>1333.804523</td>\n",
              "      <td>1193.475014</td>\n",
              "      <td>753.684160</td>\n",
              "      <td>700.882629</td>\n",
              "      <td>631.881333</td>\n",
              "      <td>571.035836</td>\n",
              "      <td>...</td>\n",
              "      <td>4.743192e-07</td>\n",
              "      <td>4.007942e-07</td>\n",
              "      <td>3.212362e-07</td>\n",
              "      <td>2.946497e-07</td>\n",
              "      <td>1.838228e-07</td>\n",
              "      <td>1.730343e-07</td>\n",
              "      <td>1.443134e-07</td>\n",
              "      <td>1.287825e-07</td>\n",
              "      <td>1.205603e-07</td>\n",
              "      <td>8.076238e-08</td>\n",
              "    </tr>\n",
              "  </tbody>\n",
              "</table>\n",
              "<p>2 rows × 408 columns</p>\n",
              "</div>"
            ],
            "text/plain": [
              "          Feat342      Feat402      Feat354      Feat294      Feat390  \\\n",
              "mean  1223.825146  3759.917748   858.977468   783.661128  2208.712808   \n",
              "std   3464.299694  2268.586194  2138.170952  1373.010706  1333.804523   \n",
              "\n",
              "          Feat366     Feat246     Feat306     Feat318     Feat378  \\\n",
              "mean   593.899584  855.595786  476.655168  352.901401  415.126172   \n",
              "std   1193.475014  753.684160  700.882629  631.881333  571.035836   \n",
              "\n",
              "          ...            Feat299       Feat335       Feat311       Feat323  \\\n",
              "mean      ...       2.733366e-07  3.178240e-07  2.142201e-07  3.032842e-07   \n",
              "std       ...       4.743192e-07  4.007942e-07  3.212362e-07  2.946497e-07   \n",
              "\n",
              "           Feat395       Feat383       Feat359       Feat371       Feat347  \\\n",
              "mean  7.477859e-08  2.027164e-07  1.290015e-07  1.306024e-07  1.116671e-07   \n",
              "std   1.838228e-07  1.730343e-07  1.443134e-07  1.287825e-07  1.205603e-07   \n",
              "\n",
              "           Feat407  \n",
              "mean  3.038975e-08  \n",
              "std   8.076238e-08  \n",
              "\n",
              "[2 rows x 408 columns]"
            ]
          },
          "metadata": {
            "tags": []
          },
          "execution_count": 14
        }
      ]
    },
    {
      "cell_type": "code",
      "metadata": {
        "id": "mfk4VxDgodbu",
        "colab_type": "code",
        "outputId": "3657a2b9-9086-4a43-923a-3bcde618a3b2",
        "colab": {}
      },
      "source": [
        "# Para checar se a Feat342 é a maior mesmo\n",
        "planilhaMediaSTD.loc['std',:].max()"
      ],
      "execution_count": 0,
      "outputs": [
        {
          "output_type": "execute_result",
          "data": {
            "text/plain": [
              "3464.299693954662"
            ]
          },
          "metadata": {
            "tags": []
          },
          "execution_count": 15
        }
      ]
    },
    {
      "cell_type": "code",
      "metadata": {
        "id": "Eo_eTqD2odbx",
        "colab_type": "code",
        "outputId": "749f2fea-3ede-44fc-ad34-037e3d5be60e",
        "colab": {}
      },
      "source": [
        "# Feat342, Feat402 e Feat354 têm os maiores stds\n",
        "caracterMaiorDP = ['Feat342', 'Feat402','Feat354']\n",
        "# dfFinal, com as amostras de características de maior desvio-padrão e coluna Class\n",
        "dfFinal = df.loc[:, caracterMaiorDP + ['Class']]\n",
        "dfFinal"
      ],
      "execution_count": 0,
      "outputs": [
        {
          "output_type": "execute_result",
          "data": {
            "text/html": [
              "<div>\n",
              "<style scoped>\n",
              "    .dataframe tbody tr th:only-of-type {\n",
              "        vertical-align: middle;\n",
              "    }\n",
              "\n",
              "    .dataframe tbody tr th {\n",
              "        vertical-align: top;\n",
              "    }\n",
              "\n",
              "    .dataframe thead th {\n",
              "        text-align: right;\n",
              "    }\n",
              "</style>\n",
              "<table border=\"1\" class=\"dataframe\">\n",
              "  <thead>\n",
              "    <tr style=\"text-align: right;\">\n",
              "      <th></th>\n",
              "      <th>Feat342</th>\n",
              "      <th>Feat402</th>\n",
              "      <th>Feat354</th>\n",
              "      <th>Class</th>\n",
              "    </tr>\n",
              "  </thead>\n",
              "  <tbody>\n",
              "    <tr>\n",
              "      <th>0</th>\n",
              "      <td>278.603665</td>\n",
              "      <td>7663.368074</td>\n",
              "      <td>273.043531</td>\n",
              "      <td>0</td>\n",
              "    </tr>\n",
              "    <tr>\n",
              "      <th>1</th>\n",
              "      <td>460.635378</td>\n",
              "      <td>5828.760675</td>\n",
              "      <td>344.151819</td>\n",
              "      <td>0</td>\n",
              "    </tr>\n",
              "    <tr>\n",
              "      <th>2</th>\n",
              "      <td>244.536630</td>\n",
              "      <td>6796.401968</td>\n",
              "      <td>236.495586</td>\n",
              "      <td>0</td>\n",
              "    </tr>\n",
              "    <tr>\n",
              "      <th>3</th>\n",
              "      <td>410.106465</td>\n",
              "      <td>7577.451642</td>\n",
              "      <td>301.223799</td>\n",
              "      <td>0</td>\n",
              "    </tr>\n",
              "    <tr>\n",
              "      <th>4</th>\n",
              "      <td>358.100538</td>\n",
              "      <td>5212.056293</td>\n",
              "      <td>268.112779</td>\n",
              "      <td>0</td>\n",
              "    </tr>\n",
              "    <tr>\n",
              "      <th>5</th>\n",
              "      <td>1205.262212</td>\n",
              "      <td>5113.544354</td>\n",
              "      <td>1463.103586</td>\n",
              "      <td>0</td>\n",
              "    </tr>\n",
              "    <tr>\n",
              "      <th>6</th>\n",
              "      <td>503.661400</td>\n",
              "      <td>7852.142007</td>\n",
              "      <td>711.997036</td>\n",
              "      <td>0</td>\n",
              "    </tr>\n",
              "    <tr>\n",
              "      <th>7</th>\n",
              "      <td>538.914202</td>\n",
              "      <td>6877.352030</td>\n",
              "      <td>1962.727798</td>\n",
              "      <td>0</td>\n",
              "    </tr>\n",
              "    <tr>\n",
              "      <th>8</th>\n",
              "      <td>1002.043556</td>\n",
              "      <td>7524.091627</td>\n",
              "      <td>1301.954902</td>\n",
              "      <td>0</td>\n",
              "    </tr>\n",
              "    <tr>\n",
              "      <th>9</th>\n",
              "      <td>856.115456</td>\n",
              "      <td>7479.312365</td>\n",
              "      <td>1628.868332</td>\n",
              "      <td>0</td>\n",
              "    </tr>\n",
              "    <tr>\n",
              "      <th>10</th>\n",
              "      <td>429.715911</td>\n",
              "      <td>5962.599811</td>\n",
              "      <td>772.268534</td>\n",
              "      <td>0</td>\n",
              "    </tr>\n",
              "    <tr>\n",
              "      <th>11</th>\n",
              "      <td>451.892853</td>\n",
              "      <td>7669.313612</td>\n",
              "      <td>1979.959459</td>\n",
              "      <td>0</td>\n",
              "    </tr>\n",
              "    <tr>\n",
              "      <th>12</th>\n",
              "      <td>861.323315</td>\n",
              "      <td>8885.439677</td>\n",
              "      <td>1059.023417</td>\n",
              "      <td>0</td>\n",
              "    </tr>\n",
              "    <tr>\n",
              "      <th>13</th>\n",
              "      <td>1219.476662</td>\n",
              "      <td>6539.965549</td>\n",
              "      <td>1484.752734</td>\n",
              "      <td>0</td>\n",
              "    </tr>\n",
              "    <tr>\n",
              "      <th>14</th>\n",
              "      <td>436.380760</td>\n",
              "      <td>10543.302620</td>\n",
              "      <td>832.784276</td>\n",
              "      <td>0</td>\n",
              "    </tr>\n",
              "    <tr>\n",
              "      <th>15</th>\n",
              "      <td>239.050155</td>\n",
              "      <td>322.718038</td>\n",
              "      <td>193.959896</td>\n",
              "      <td>0</td>\n",
              "    </tr>\n",
              "    <tr>\n",
              "      <th>16</th>\n",
              "      <td>249.314621</td>\n",
              "      <td>518.230773</td>\n",
              "      <td>154.738192</td>\n",
              "      <td>0</td>\n",
              "    </tr>\n",
              "    <tr>\n",
              "      <th>17</th>\n",
              "      <td>228.794342</td>\n",
              "      <td>620.735733</td>\n",
              "      <td>161.618671</td>\n",
              "      <td>0</td>\n",
              "    </tr>\n",
              "    <tr>\n",
              "      <th>18</th>\n",
              "      <td>236.833117</td>\n",
              "      <td>774.375366</td>\n",
              "      <td>142.499056</td>\n",
              "      <td>0</td>\n",
              "    </tr>\n",
              "    <tr>\n",
              "      <th>19</th>\n",
              "      <td>218.392031</td>\n",
              "      <td>1152.263157</td>\n",
              "      <td>184.462444</td>\n",
              "      <td>0</td>\n",
              "    </tr>\n",
              "    <tr>\n",
              "      <th>20</th>\n",
              "      <td>187.296474</td>\n",
              "      <td>1578.797377</td>\n",
              "      <td>730.647803</td>\n",
              "      <td>0</td>\n",
              "    </tr>\n",
              "    <tr>\n",
              "      <th>21</th>\n",
              "      <td>151.160168</td>\n",
              "      <td>2137.642459</td>\n",
              "      <td>870.949048</td>\n",
              "      <td>0</td>\n",
              "    </tr>\n",
              "    <tr>\n",
              "      <th>22</th>\n",
              "      <td>204.642561</td>\n",
              "      <td>1817.514935</td>\n",
              "      <td>798.699845</td>\n",
              "      <td>0</td>\n",
              "    </tr>\n",
              "    <tr>\n",
              "      <th>23</th>\n",
              "      <td>252.786818</td>\n",
              "      <td>2636.221697</td>\n",
              "      <td>812.740170</td>\n",
              "      <td>0</td>\n",
              "    </tr>\n",
              "    <tr>\n",
              "      <th>24</th>\n",
              "      <td>222.266602</td>\n",
              "      <td>1086.624360</td>\n",
              "      <td>643.523329</td>\n",
              "      <td>0</td>\n",
              "    </tr>\n",
              "    <tr>\n",
              "      <th>25</th>\n",
              "      <td>193.231996</td>\n",
              "      <td>768.287793</td>\n",
              "      <td>420.825256</td>\n",
              "      <td>0</td>\n",
              "    </tr>\n",
              "    <tr>\n",
              "      <th>26</th>\n",
              "      <td>157.240280</td>\n",
              "      <td>1384.010494</td>\n",
              "      <td>354.187490</td>\n",
              "      <td>0</td>\n",
              "    </tr>\n",
              "    <tr>\n",
              "      <th>27</th>\n",
              "      <td>158.897309</td>\n",
              "      <td>2720.104446</td>\n",
              "      <td>502.366283</td>\n",
              "      <td>0</td>\n",
              "    </tr>\n",
              "    <tr>\n",
              "      <th>28</th>\n",
              "      <td>153.122566</td>\n",
              "      <td>2261.901324</td>\n",
              "      <td>505.306281</td>\n",
              "      <td>0</td>\n",
              "    </tr>\n",
              "    <tr>\n",
              "      <th>29</th>\n",
              "      <td>189.881775</td>\n",
              "      <td>1266.730917</td>\n",
              "      <td>687.043812</td>\n",
              "      <td>0</td>\n",
              "    </tr>\n",
              "    <tr>\n",
              "      <th>...</th>\n",
              "      <td>...</td>\n",
              "      <td>...</td>\n",
              "      <td>...</td>\n",
              "      <td>...</td>\n",
              "    </tr>\n",
              "    <tr>\n",
              "      <th>100</th>\n",
              "      <td>92.067201</td>\n",
              "      <td>5285.193736</td>\n",
              "      <td>89.983388</td>\n",
              "      <td>1</td>\n",
              "    </tr>\n",
              "    <tr>\n",
              "      <th>101</th>\n",
              "      <td>70.979063</td>\n",
              "      <td>6244.308744</td>\n",
              "      <td>116.207519</td>\n",
              "      <td>1</td>\n",
              "    </tr>\n",
              "    <tr>\n",
              "      <th>102</th>\n",
              "      <td>104.841791</td>\n",
              "      <td>7274.739732</td>\n",
              "      <td>157.411627</td>\n",
              "      <td>1</td>\n",
              "    </tr>\n",
              "    <tr>\n",
              "      <th>103</th>\n",
              "      <td>83.537775</td>\n",
              "      <td>7432.232478</td>\n",
              "      <td>97.980013</td>\n",
              "      <td>1</td>\n",
              "    </tr>\n",
              "    <tr>\n",
              "      <th>104</th>\n",
              "      <td>92.331245</td>\n",
              "      <td>5471.678231</td>\n",
              "      <td>80.562935</td>\n",
              "      <td>1</td>\n",
              "    </tr>\n",
              "    <tr>\n",
              "      <th>105</th>\n",
              "      <td>392.805746</td>\n",
              "      <td>1941.343553</td>\n",
              "      <td>2571.918803</td>\n",
              "      <td>1</td>\n",
              "    </tr>\n",
              "    <tr>\n",
              "      <th>106</th>\n",
              "      <td>342.632982</td>\n",
              "      <td>1919.318243</td>\n",
              "      <td>2138.053798</td>\n",
              "      <td>1</td>\n",
              "    </tr>\n",
              "    <tr>\n",
              "      <th>107</th>\n",
              "      <td>539.389270</td>\n",
              "      <td>1702.656438</td>\n",
              "      <td>2748.854222</td>\n",
              "      <td>1</td>\n",
              "    </tr>\n",
              "    <tr>\n",
              "      <th>108</th>\n",
              "      <td>662.877648</td>\n",
              "      <td>2464.335343</td>\n",
              "      <td>3618.317668</td>\n",
              "      <td>1</td>\n",
              "    </tr>\n",
              "    <tr>\n",
              "      <th>109</th>\n",
              "      <td>931.494205</td>\n",
              "      <td>3666.500588</td>\n",
              "      <td>6597.239238</td>\n",
              "      <td>1</td>\n",
              "    </tr>\n",
              "    <tr>\n",
              "      <th>110</th>\n",
              "      <td>135.492412</td>\n",
              "      <td>2110.562087</td>\n",
              "      <td>252.701513</td>\n",
              "      <td>1</td>\n",
              "    </tr>\n",
              "    <tr>\n",
              "      <th>111</th>\n",
              "      <td>145.607711</td>\n",
              "      <td>3526.223924</td>\n",
              "      <td>213.713174</td>\n",
              "      <td>1</td>\n",
              "    </tr>\n",
              "    <tr>\n",
              "      <th>112</th>\n",
              "      <td>140.743249</td>\n",
              "      <td>2867.013478</td>\n",
              "      <td>242.412714</td>\n",
              "      <td>1</td>\n",
              "    </tr>\n",
              "    <tr>\n",
              "      <th>113</th>\n",
              "      <td>130.795536</td>\n",
              "      <td>3015.613850</td>\n",
              "      <td>260.780683</td>\n",
              "      <td>1</td>\n",
              "    </tr>\n",
              "    <tr>\n",
              "      <th>114</th>\n",
              "      <td>319.148908</td>\n",
              "      <td>3371.434117</td>\n",
              "      <td>346.660602</td>\n",
              "      <td>1</td>\n",
              "    </tr>\n",
              "    <tr>\n",
              "      <th>115</th>\n",
              "      <td>98.895309</td>\n",
              "      <td>1338.362240</td>\n",
              "      <td>252.731190</td>\n",
              "      <td>1</td>\n",
              "    </tr>\n",
              "    <tr>\n",
              "      <th>116</th>\n",
              "      <td>82.243175</td>\n",
              "      <td>3968.020493</td>\n",
              "      <td>250.872767</td>\n",
              "      <td>1</td>\n",
              "    </tr>\n",
              "    <tr>\n",
              "      <th>117</th>\n",
              "      <td>131.823675</td>\n",
              "      <td>4165.594321</td>\n",
              "      <td>358.018725</td>\n",
              "      <td>1</td>\n",
              "    </tr>\n",
              "    <tr>\n",
              "      <th>118</th>\n",
              "      <td>108.216072</td>\n",
              "      <td>3427.741817</td>\n",
              "      <td>280.386696</td>\n",
              "      <td>1</td>\n",
              "    </tr>\n",
              "    <tr>\n",
              "      <th>119</th>\n",
              "      <td>154.290733</td>\n",
              "      <td>4708.199458</td>\n",
              "      <td>194.451315</td>\n",
              "      <td>1</td>\n",
              "    </tr>\n",
              "    <tr>\n",
              "      <th>120</th>\n",
              "      <td>523.139652</td>\n",
              "      <td>2761.938730</td>\n",
              "      <td>210.122329</td>\n",
              "      <td>1</td>\n",
              "    </tr>\n",
              "    <tr>\n",
              "      <th>121</th>\n",
              "      <td>467.827673</td>\n",
              "      <td>3790.529824</td>\n",
              "      <td>469.806635</td>\n",
              "      <td>1</td>\n",
              "    </tr>\n",
              "    <tr>\n",
              "      <th>122</th>\n",
              "      <td>872.642152</td>\n",
              "      <td>3501.663442</td>\n",
              "      <td>507.341626</td>\n",
              "      <td>1</td>\n",
              "    </tr>\n",
              "    <tr>\n",
              "      <th>123</th>\n",
              "      <td>735.365476</td>\n",
              "      <td>3842.895537</td>\n",
              "      <td>530.028044</td>\n",
              "      <td>1</td>\n",
              "    </tr>\n",
              "    <tr>\n",
              "      <th>124</th>\n",
              "      <td>537.363677</td>\n",
              "      <td>4272.875186</td>\n",
              "      <td>408.387089</td>\n",
              "      <td>1</td>\n",
              "    </tr>\n",
              "    <tr>\n",
              "      <th>125</th>\n",
              "      <td>1354.527020</td>\n",
              "      <td>1373.053576</td>\n",
              "      <td>593.968837</td>\n",
              "      <td>0</td>\n",
              "    </tr>\n",
              "    <tr>\n",
              "      <th>126</th>\n",
              "      <td>1416.712295</td>\n",
              "      <td>1023.295014</td>\n",
              "      <td>790.646254</td>\n",
              "      <td>0</td>\n",
              "    </tr>\n",
              "    <tr>\n",
              "      <th>127</th>\n",
              "      <td>2112.671892</td>\n",
              "      <td>1536.575225</td>\n",
              "      <td>721.346125</td>\n",
              "      <td>0</td>\n",
              "    </tr>\n",
              "    <tr>\n",
              "      <th>128</th>\n",
              "      <td>4373.866511</td>\n",
              "      <td>668.175357</td>\n",
              "      <td>668.840472</td>\n",
              "      <td>0</td>\n",
              "    </tr>\n",
              "    <tr>\n",
              "      <th>129</th>\n",
              "      <td>2454.072672</td>\n",
              "      <td>1347.289354</td>\n",
              "      <td>541.602938</td>\n",
              "      <td>0</td>\n",
              "    </tr>\n",
              "  </tbody>\n",
              "</table>\n",
              "<p>130 rows × 4 columns</p>\n",
              "</div>"
            ],
            "text/plain": [
              "         Feat342       Feat402      Feat354  Class\n",
              "0     278.603665   7663.368074   273.043531      0\n",
              "1     460.635378   5828.760675   344.151819      0\n",
              "2     244.536630   6796.401968   236.495586      0\n",
              "3     410.106465   7577.451642   301.223799      0\n",
              "4     358.100538   5212.056293   268.112779      0\n",
              "5    1205.262212   5113.544354  1463.103586      0\n",
              "6     503.661400   7852.142007   711.997036      0\n",
              "7     538.914202   6877.352030  1962.727798      0\n",
              "8    1002.043556   7524.091627  1301.954902      0\n",
              "9     856.115456   7479.312365  1628.868332      0\n",
              "10    429.715911   5962.599811   772.268534      0\n",
              "11    451.892853   7669.313612  1979.959459      0\n",
              "12    861.323315   8885.439677  1059.023417      0\n",
              "13   1219.476662   6539.965549  1484.752734      0\n",
              "14    436.380760  10543.302620   832.784276      0\n",
              "15    239.050155    322.718038   193.959896      0\n",
              "16    249.314621    518.230773   154.738192      0\n",
              "17    228.794342    620.735733   161.618671      0\n",
              "18    236.833117    774.375366   142.499056      0\n",
              "19    218.392031   1152.263157   184.462444      0\n",
              "20    187.296474   1578.797377   730.647803      0\n",
              "21    151.160168   2137.642459   870.949048      0\n",
              "22    204.642561   1817.514935   798.699845      0\n",
              "23    252.786818   2636.221697   812.740170      0\n",
              "24    222.266602   1086.624360   643.523329      0\n",
              "25    193.231996    768.287793   420.825256      0\n",
              "26    157.240280   1384.010494   354.187490      0\n",
              "27    158.897309   2720.104446   502.366283      0\n",
              "28    153.122566   2261.901324   505.306281      0\n",
              "29    189.881775   1266.730917   687.043812      0\n",
              "..           ...           ...          ...    ...\n",
              "100    92.067201   5285.193736    89.983388      1\n",
              "101    70.979063   6244.308744   116.207519      1\n",
              "102   104.841791   7274.739732   157.411627      1\n",
              "103    83.537775   7432.232478    97.980013      1\n",
              "104    92.331245   5471.678231    80.562935      1\n",
              "105   392.805746   1941.343553  2571.918803      1\n",
              "106   342.632982   1919.318243  2138.053798      1\n",
              "107   539.389270   1702.656438  2748.854222      1\n",
              "108   662.877648   2464.335343  3618.317668      1\n",
              "109   931.494205   3666.500588  6597.239238      1\n",
              "110   135.492412   2110.562087   252.701513      1\n",
              "111   145.607711   3526.223924   213.713174      1\n",
              "112   140.743249   2867.013478   242.412714      1\n",
              "113   130.795536   3015.613850   260.780683      1\n",
              "114   319.148908   3371.434117   346.660602      1\n",
              "115    98.895309   1338.362240   252.731190      1\n",
              "116    82.243175   3968.020493   250.872767      1\n",
              "117   131.823675   4165.594321   358.018725      1\n",
              "118   108.216072   3427.741817   280.386696      1\n",
              "119   154.290733   4708.199458   194.451315      1\n",
              "120   523.139652   2761.938730   210.122329      1\n",
              "121   467.827673   3790.529824   469.806635      1\n",
              "122   872.642152   3501.663442   507.341626      1\n",
              "123   735.365476   3842.895537   530.028044      1\n",
              "124   537.363677   4272.875186   408.387089      1\n",
              "125  1354.527020   1373.053576   593.968837      0\n",
              "126  1416.712295   1023.295014   790.646254      0\n",
              "127  2112.671892   1536.575225   721.346125      0\n",
              "128  4373.866511    668.175357   668.840472      0\n",
              "129  2454.072672   1347.289354   541.602938      0\n",
              "\n",
              "[130 rows x 4 columns]"
            ]
          },
          "metadata": {
            "tags": []
          },
          "execution_count": 16
        }
      ]
    },
    {
      "cell_type": "markdown",
      "metadata": {
        "id": "L5yTNUTFodb0",
        "colab_type": "text"
      },
      "source": [
        "# Separação de X e y"
      ]
    },
    {
      "cell_type": "code",
      "metadata": {
        "id": "Wef_ySbGodb0",
        "colab_type": "code",
        "outputId": "8c2702cf-35e5-4c6b-f6bb-90059e9abf13",
        "colab": {}
      },
      "source": [
        "X = dfFinal.iloc[:, 0:3]\n",
        "X.head()"
      ],
      "execution_count": 0,
      "outputs": [
        {
          "output_type": "execute_result",
          "data": {
            "text/html": [
              "<div>\n",
              "<style scoped>\n",
              "    .dataframe tbody tr th:only-of-type {\n",
              "        vertical-align: middle;\n",
              "    }\n",
              "\n",
              "    .dataframe tbody tr th {\n",
              "        vertical-align: top;\n",
              "    }\n",
              "\n",
              "    .dataframe thead th {\n",
              "        text-align: right;\n",
              "    }\n",
              "</style>\n",
              "<table border=\"1\" class=\"dataframe\">\n",
              "  <thead>\n",
              "    <tr style=\"text-align: right;\">\n",
              "      <th></th>\n",
              "      <th>Feat342</th>\n",
              "      <th>Feat402</th>\n",
              "      <th>Feat354</th>\n",
              "    </tr>\n",
              "  </thead>\n",
              "  <tbody>\n",
              "    <tr>\n",
              "      <th>0</th>\n",
              "      <td>278.603665</td>\n",
              "      <td>7663.368074</td>\n",
              "      <td>273.043531</td>\n",
              "    </tr>\n",
              "    <tr>\n",
              "      <th>1</th>\n",
              "      <td>460.635378</td>\n",
              "      <td>5828.760675</td>\n",
              "      <td>344.151819</td>\n",
              "    </tr>\n",
              "    <tr>\n",
              "      <th>2</th>\n",
              "      <td>244.536630</td>\n",
              "      <td>6796.401968</td>\n",
              "      <td>236.495586</td>\n",
              "    </tr>\n",
              "    <tr>\n",
              "      <th>3</th>\n",
              "      <td>410.106465</td>\n",
              "      <td>7577.451642</td>\n",
              "      <td>301.223799</td>\n",
              "    </tr>\n",
              "    <tr>\n",
              "      <th>4</th>\n",
              "      <td>358.100538</td>\n",
              "      <td>5212.056293</td>\n",
              "      <td>268.112779</td>\n",
              "    </tr>\n",
              "  </tbody>\n",
              "</table>\n",
              "</div>"
            ],
            "text/plain": [
              "      Feat342      Feat402     Feat354\n",
              "0  278.603665  7663.368074  273.043531\n",
              "1  460.635378  5828.760675  344.151819\n",
              "2  244.536630  6796.401968  236.495586\n",
              "3  410.106465  7577.451642  301.223799\n",
              "4  358.100538  5212.056293  268.112779"
            ]
          },
          "metadata": {
            "tags": []
          },
          "execution_count": 17
        }
      ]
    },
    {
      "cell_type": "code",
      "metadata": {
        "scrolled": true,
        "id": "tg3D8fsLodb5",
        "colab_type": "code",
        "outputId": "6f321d57-fb95-4bf8-ee91-37c03617676b",
        "colab": {}
      },
      "source": [
        "# .values para transformar para numpy array, que acelera os cálculos\n",
        "y = dfFinal.loc[:,'Class'].values\n",
        "\n",
        "print('Tipo de dado de y: %s \\n' % type(y))\n",
        "print('Valores de y:')\n",
        "print(y)"
      ],
      "execution_count": 0,
      "outputs": [
        {
          "output_type": "stream",
          "text": [
            "Tipo de dado de y: <class 'numpy.ndarray'> \n",
            "\n",
            "Valores de y:\n",
            "[0 0 0 0 0 0 0 0 0 0 0 0 0 0 0 0 0 0 0 0 0 0 0 0 0 0 0 0 0 0 0 0 0 0 0 0 0\n",
            " 0 0 0 0 0 0 0 0 1 1 1 1 1 1 1 1 1 1 1 1 1 1 1 1 1 1 1 1 1 1 1 1 1 1 1 1 1\n",
            " 1 1 1 1 1 1 1 1 1 1 1 1 1 1 1 1 1 1 1 1 1 1 1 1 1 1 1 1 1 1 1 1 1 1 1 1 1\n",
            " 1 1 1 1 1 1 1 1 1 1 1 1 1 1 0 0 0 0 0]\n"
          ],
          "name": "stdout"
        }
      ]
    },
    {
      "cell_type": "markdown",
      "metadata": {
        "id": "5kwgRn6Lodb8",
        "colab_type": "text"
      },
      "source": [
        "# Normalização"
      ]
    },
    {
      "cell_type": "markdown",
      "metadata": {
        "id": "yymV-YIXodb9",
        "colab_type": "text"
      },
      "source": [
        "## Fórmula de normalização:\n",
        "X = (X - X.min())/(X.max() - X.min())"
      ]
    },
    {
      "cell_type": "code",
      "metadata": {
        "id": "OEREeQ_7odb9",
        "colab_type": "code",
        "outputId": "a03033e6-5bf0-44a5-af1a-deccd211dc37",
        "colab": {}
      },
      "source": [
        "print('Executando normalização...')\n",
        "\n",
        "X = (X - X.min(axis=0))/(X.max(axis=0) - X.min(axis=0))\n",
        "X.head()\n",
        "\n",
        "print('Normalização finalizada!')"
      ],
      "execution_count": 0,
      "outputs": [
        {
          "output_type": "stream",
          "text": [
            "Executando normalização...\n",
            "Normalização finalizada!\n"
          ],
          "name": "stdout"
        }
      ]
    },
    {
      "cell_type": "markdown",
      "metadata": {
        "id": "uVGWbZAzodcA",
        "colab_type": "text"
      },
      "source": [
        "### Checagem de MÍNIMO e MÁXIMO"
      ]
    },
    {
      "cell_type": "code",
      "metadata": {
        "id": "M4Idz8afodcB",
        "colab_type": "code",
        "outputId": "a47d1bce-7b0e-4db4-dacd-fff81e5330e0",
        "colab": {}
      },
      "source": [
        "print('Mínimo:')\n",
        "print(X.min())\n",
        "\n",
        "print('Máximo:')\n",
        "print(X.max())"
      ],
      "execution_count": 0,
      "outputs": [
        {
          "output_type": "stream",
          "text": [
            "Mínimo:\n",
            "Feat342    0.0\n",
            "Feat402    0.0\n",
            "Feat354    0.0\n",
            "dtype: float64\n",
            "Máximo:\n",
            "Feat342    1.0\n",
            "Feat402    1.0\n",
            "Feat354    1.0\n",
            "dtype: float64\n"
          ],
          "name": "stdout"
        }
      ]
    },
    {
      "cell_type": "markdown",
      "metadata": {
        "id": "4tCtnvkKodcD",
        "colab_type": "text"
      },
      "source": [
        "# Separação Treino e Teste\n",
        "- Treino: 70%\n",
        "- Teste: 30%"
      ]
    },
    {
      "cell_type": "code",
      "metadata": {
        "id": "CEzRUU1dodcE",
        "colab_type": "code",
        "outputId": "ff87d96d-6aaa-47ac-aeb0-c9b909c95423",
        "colab": {}
      },
      "source": [
        "print('Separando valores de treino e teste...')\n",
        "X_train, X_test, y_train, y_test = train_test_split(X, y, test_size=0.3, random_state=21, stratify=y)\n",
        "\n",
        "print('Treino e teste foram separados em:')"
      ],
      "execution_count": 0,
      "outputs": [
        {
          "output_type": "stream",
          "text": [
            "Separando valores de treino e teste...\n",
            "Treino e teste foram separados em:\n"
          ],
          "name": "stdout"
        }
      ]
    },
    {
      "cell_type": "code",
      "metadata": {
        "scrolled": true,
        "id": "hhVAsA4BodcH",
        "colab_type": "code",
        "outputId": "713cf7b0-2a00-4e51-f3af-40c4a5ac3ce6",
        "colab": {}
      },
      "source": [
        "# Checando a forma de cada elemento (linha, colunas)\n",
        "\n",
        "print('Treino:')\n",
        "print(X_train.shape)\n",
        "print(y_train.shape)\n",
        "\n",
        "print('\\nTeste:')\n",
        "print(X_test.shape)\n",
        "print(y_test.shape)"
      ],
      "execution_count": 0,
      "outputs": [
        {
          "output_type": "stream",
          "text": [
            "Treino:\n",
            "(91, 3)\n",
            "(91,)\n",
            "\n",
            "Teste:\n",
            "(39, 3)\n",
            "(39,)\n"
          ],
          "name": "stdout"
        }
      ]
    },
    {
      "cell_type": "markdown",
      "metadata": {
        "id": "KrY-Jw5VodcK",
        "colab_type": "text"
      },
      "source": [
        "# Função para testar várias arquiteturas"
      ]
    },
    {
      "cell_type": "code",
      "metadata": {
        "id": "ICj7o9HnodcK",
        "colab_type": "code",
        "colab": {}
      },
      "source": [
        "def testarClassificadorMLP(ativador, otimizador, epocas=2000, momentumm=0.9, taxaAprendizagem='constant'):\n",
        "    '''\n",
        "    FUNÇÃO testarClassificadorMLP\n",
        "    \n",
        "    DESCRIÇÃO:\n",
        "    Função para testar precisão (em Erro Quadrático Médio - EQM) com diversas quantidades de tuplas em uma camada intermediária.\n",
        "    É possível, também, determinar arquiteturas e outros parâmetros do classificador sklearn.neural_network.MLPClassifier da biblioteca Scikit-learn.\n",
        "    \n",
        "    ENTRADAS:\n",
        "    - ativador:  {‘identity’, ‘logistic’, ‘tanh’, ‘relu’}\n",
        "        define a função de ativação a ser percorrida.\n",
        "\n",
        "    - otimizador: {‘lbfgs’, ‘sgd’, ‘adam’'}\n",
        "        define o otimizador que será utilizado\n",
        "\n",
        "    - épocas: (DEFAULT=2000)\n",
        "        Para otimizadores 'sgd' e 'adam', define o número de épocas\n",
        "        Para outros, define o número de iterações\n",
        "\n",
        "    - momentum: [float de 0 a 1] (DEFAULT=0.9)\n",
        "        define a taxa de momentum.\n",
        "\n",
        "    - taxaDeAprendizagem: [float de 0 a 1] (DEFAULT='constant')\n",
        "        define a taxa de aprendizagem.\n",
        "    \n",
        "    SAÍDAS (void):\n",
        "    Apresenta a performance de cada formato de tupla.\n",
        "    \n",
        "    PARA MAIORES INFORMAÇÕES:\n",
        "    http://scikit-learn.org/stable/modules/generated/sklearn.neural_network.MLPClassifier.html\n",
        "    \n",
        "    AUTOR: BRUNO MORAIS NEVES DE CASTRO\n",
        "    \n",
        "    '''\n",
        "    \n",
        "    listaEQMTeste = []\n",
        "    listaEQMTreino = []\n",
        "\n",
        "    for i in range(1,25):\n",
        "        clf = MLPClassifier(activation=ativador, solver=otimizador, hidden_layer_sizes=(i, ), random_state=21, max_iter=epocas, momentum=momentumm, learning_rate=taxaAprendizagem)\n",
        "        #print('\\n{} tupla(s) na camada\\n'.format(i))\n",
        "\n",
        "        #mediaCrossValidation = np.mean(cross_val_score(clf, X, y, cv=5))\n",
        "\n",
        "        #print('Média Cross-validation: {}'.format(mediaCrossValidation))\n",
        "\n",
        "        clf.fit(X_train, y_train)\n",
        "\n",
        "        y_pred_train = clf.predict(X_train)\n",
        "        y_pred_test = clf.predict(X_test)\n",
        "\n",
        "        EQM_treino = mean_squared_error(y_train, y_pred_train)\n",
        "        EQM_teste = mean_squared_error(y_test, y_pred_test)\n",
        "\n",
        "        score = clf.score(X_test,y_test)\n",
        "\n",
        "        #print('Score de Teste: {}'.format(score))\n",
        "        #print('EQM de Treino: {}'.format(EQM_treino))\n",
        "        #print('EQM de Teste: {}'.format(EQM_teste))\n",
        "\n",
        "        listaEQMTeste.append(EQM_teste)\n",
        "        listaEQMTreino.append(EQM_treino)\n",
        "\n",
        "    minListaEQMTeste = np.min(np.array(listaEQMTeste))\n",
        "    minListaEQMTreino = np.min(np.array(listaEQMTreino))\n",
        "    print('\\n######################################################')\n",
        "    print('Ativador [{}] e otimizador [{}]'.format(ativador, otimizador))\n",
        "    print('Mínimo EQM Teste: {}'.format(minListaEQMTeste))\n",
        "    print('Mínimo EQM Treino: {}'.format(minListaEQMTreino))\n",
        "    print('######################################################')"
      ],
      "execution_count": 0,
      "outputs": []
    },
    {
      "cell_type": "markdown",
      "metadata": {
        "id": "cPcdS6yoodcM",
        "colab_type": "text"
      },
      "source": [
        "# Cálculo de Erro Quadrático Médio para diversas arquiteturas"
      ]
    },
    {
      "cell_type": "markdown",
      "metadata": {
        "id": "M9SIcHpDodcM",
        "colab_type": "text"
      },
      "source": [
        "### Sigmoidal (Logistic)"
      ]
    },
    {
      "cell_type": "code",
      "metadata": {
        "id": "MR5lLe6LodcN",
        "colab_type": "code",
        "outputId": "89bff192-53cf-41a9-e5ab-59e2b9d2bf51",
        "colab": {}
      },
      "source": [
        "testarClassificadorMLP(ativador='logistic', otimizador='lbfgs')\n",
        "# 5"
      ],
      "execution_count": 0,
      "outputs": [
        {
          "output_type": "stream",
          "text": [
            "\n",
            "######################################################\n",
            "Ativador [logistic] e otimizador [lbfgs]\n",
            "Mínimo EQM Teste: 0.07692307692307693\n",
            "Mínimo EQM Treino: 0.0\n",
            "######################################################\n"
          ],
          "name": "stdout"
        }
      ]
    },
    {
      "cell_type": "code",
      "metadata": {
        "id": "_SEQsD9CodcP",
        "colab_type": "code",
        "outputId": "7ee3a2b6-afc5-42fe-fa9f-e3554eedeffd",
        "colab": {}
      },
      "source": [
        "testarClassificadorMLP(ativador='logistic', otimizador='sgd')"
      ],
      "execution_count": 0,
      "outputs": [
        {
          "output_type": "stream",
          "text": [
            "\n",
            "######################################################\n",
            "Ativador [logistic] e otimizador [sgd]\n",
            "Mínimo EQM Teste: 0.38461538461538464\n",
            "Mínimo EQM Treino: 0.38461538461538464\n",
            "######################################################\n"
          ],
          "name": "stdout"
        }
      ]
    },
    {
      "cell_type": "code",
      "metadata": {
        "scrolled": false,
        "id": "ljPZtnHxodcS",
        "colab_type": "code",
        "outputId": "a7d743cd-88b5-41a9-cc31-650d0a526389",
        "colab": {}
      },
      "source": [
        "testarClassificadorMLP(ativador='logistic', otimizador='adam')"
      ],
      "execution_count": 0,
      "outputs": [
        {
          "output_type": "stream",
          "text": [
            "\n",
            "######################################################\n",
            "Ativador [logistic] e otimizador [adam]\n",
            "Mínimo EQM Teste: 0.38461538461538464\n",
            "Mínimo EQM Treino: 0.38461538461538464\n",
            "######################################################\n"
          ],
          "name": "stdout"
        }
      ]
    },
    {
      "cell_type": "markdown",
      "metadata": {
        "id": "FBgFAgmcodcU",
        "colab_type": "text"
      },
      "source": [
        "### Rectified (ReLU)"
      ]
    },
    {
      "cell_type": "code",
      "metadata": {
        "scrolled": false,
        "id": "VY8_g65VodcV",
        "colab_type": "code",
        "outputId": "c8c8eedb-6e10-456e-8d98-80f8276fc63e",
        "colab": {}
      },
      "source": [
        "testarClassificadorMLP(ativador='relu', otimizador='lbfgs')\n",
        "# 11, 14, 17, 19"
      ],
      "execution_count": 0,
      "outputs": [
        {
          "output_type": "stream",
          "text": [
            "\n",
            "######################################################\n",
            "Ativador [relu] e otimizador [lbfgs]\n",
            "Mínimo EQM Teste: 0.10256410256410256\n",
            "Mínimo EQM Treino: 0.04395604395604396\n",
            "######################################################\n"
          ],
          "name": "stdout"
        }
      ]
    },
    {
      "cell_type": "code",
      "metadata": {
        "id": "XkJNmzmYodcX",
        "colab_type": "code",
        "outputId": "3ce4cf16-0baa-4ad5-8737-886975e59f50",
        "colab": {}
      },
      "source": [
        "testarClassificadorMLP(ativador='relu', otimizador='sgd')"
      ],
      "execution_count": 0,
      "outputs": [
        {
          "output_type": "stream",
          "text": [
            "\n",
            "######################################################\n",
            "Ativador [relu] e otimizador [sgd]\n",
            "Mínimo EQM Teste: 0.38461538461538464\n",
            "Mínimo EQM Treino: 0.37362637362637363\n",
            "######################################################\n"
          ],
          "name": "stdout"
        }
      ]
    },
    {
      "cell_type": "code",
      "metadata": {
        "id": "zEBCv9TGodca",
        "colab_type": "code",
        "outputId": "edcb9bcd-1f60-4303-e1ce-df7b7234c89c",
        "colab": {}
      },
      "source": [
        "testarClassificadorMLP(ativador='relu', otimizador='adam')"
      ],
      "execution_count": 0,
      "outputs": [
        {
          "output_type": "stream",
          "text": [
            "\n",
            "######################################################\n",
            "Ativador [relu] e otimizador [adam]\n",
            "Mínimo EQM Teste: 0.15384615384615385\n",
            "Mínimo EQM Treino: 0.13186813186813187\n",
            "######################################################\n"
          ],
          "name": "stdout"
        }
      ]
    },
    {
      "cell_type": "markdown",
      "metadata": {
        "id": "9ytjV3fLodce",
        "colab_type": "text"
      },
      "source": [
        "### Tangente Hiperbólica (tanh)"
      ]
    },
    {
      "cell_type": "code",
      "metadata": {
        "id": "rIGTQaL8odcf",
        "colab_type": "code",
        "outputId": "7b787fe9-9d48-4a49-9bba-c2e9b5473f62",
        "colab": {}
      },
      "source": [
        "testarClassificadorMLP(ativador='tanh', otimizador='lbfgs')\n",
        "# 6, 13"
      ],
      "execution_count": 0,
      "outputs": [
        {
          "output_type": "stream",
          "text": [
            "\n",
            "######################################################\n",
            "Ativador [tanh] e otimizador [lbfgs]\n",
            "Mínimo EQM Teste: 0.1282051282051282\n",
            "Mínimo EQM Treino: 0.0\n",
            "######################################################\n"
          ],
          "name": "stdout"
        }
      ]
    },
    {
      "cell_type": "code",
      "metadata": {
        "id": "9Vi2mkWaodch",
        "colab_type": "code",
        "outputId": "9c9ed6bf-ddd5-4891-956c-93d39d3f7844",
        "colab": {}
      },
      "source": [
        "testarClassificadorMLP(ativador='tanh', otimizador='sgd')"
      ],
      "execution_count": 0,
      "outputs": [
        {
          "output_type": "stream",
          "text": [
            "\n",
            "######################################################\n",
            "Ativador [tanh] e otimizador [sgd]\n",
            "Mínimo EQM Teste: 0.2564102564102564\n",
            "Mínimo EQM Treino: 0.2857142857142857\n",
            "######################################################\n"
          ],
          "name": "stdout"
        }
      ]
    },
    {
      "cell_type": "code",
      "metadata": {
        "id": "bcCMgjYXodcj",
        "colab_type": "code",
        "outputId": "f6aedc47-6f83-43e6-dd07-b6bf96a910df",
        "colab": {}
      },
      "source": [
        "testarClassificadorMLP(ativador='tanh', otimizador='adam')"
      ],
      "execution_count": 0,
      "outputs": [
        {
          "output_type": "stream",
          "text": [
            "\n",
            "######################################################\n",
            "Ativador [tanh] e otimizador [adam]\n",
            "Mínimo EQM Teste: 0.1794871794871795\n",
            "Mínimo EQM Treino: 0.27472527472527475\n",
            "######################################################\n"
          ],
          "name": "stdout"
        }
      ]
    },
    {
      "cell_type": "markdown",
      "metadata": {
        "id": "HG3wWhMjodcl",
        "colab_type": "text"
      },
      "source": [
        "# CÁLCULO DE PRECISÃO"
      ]
    },
    {
      "cell_type": "markdown",
      "metadata": {
        "id": "2QeEvZBhodcl",
        "colab_type": "text"
      },
      "source": [
        "## Arquiteturas com melhores scores:\n",
        "- Ativador [tanh] e otimizador [lbfgs]\n",
        "- Ativador [relu] e otimizador [lbfgs]\n",
        "- Ativador [logistic] e otimizador [lbfgs]\n",
        "\n",
        "Os demais argumentos estão na função testarClassificadorMLP() criada."
      ]
    },
    {
      "cell_type": "code",
      "metadata": {
        "id": "5qiuNaxZodcm",
        "colab_type": "code",
        "outputId": "c38f7c66-ba7e-46d3-f9fc-bb779ff548d2",
        "colab": {}
      },
      "source": [
        "clfTanhLBFGS = MLPClassifier(activation='tanh', solver='lbfgs', hidden_layer_sizes=(6, ), random_state=21, max_iter=2000)\n",
        "clfTanhLBFGS.fit(X_train, y_train)\n",
        "precisao = clfTanhLBFGS.score(X_test, y_test)\n",
        "\n",
        "print('\\nAtivador [tanh] e otimizador [lbfgs]')\n",
        "print('Precisão: {} %'.format(precisao * 100))"
      ],
      "execution_count": 0,
      "outputs": [
        {
          "output_type": "stream",
          "text": [
            "\n",
            "Ativador [tanh] e otimizador [lbfgs]\n",
            "Precisão: 87.17948717948718 %\n"
          ],
          "name": "stdout"
        }
      ]
    },
    {
      "cell_type": "code",
      "metadata": {
        "scrolled": true,
        "id": "c8coDW6nodcq",
        "colab_type": "code",
        "outputId": "f9da91d6-08e4-4f94-a90f-30a62b72535a",
        "colab": {}
      },
      "source": [
        "clfReluLBFGS = MLPClassifier(activation='relu', solver='lbfgs', hidden_layer_sizes=(11, ), random_state=21, max_iter=2000)\n",
        "clfReluLBFGS.fit(X_train, y_train)\n",
        "precisao = clfReluLBFGS.score(X_test, y_test)\n",
        "\n",
        "print('\\nAtivador [relu] e otimizador [lbfgs]')\n",
        "print('Precisão: {} %'.format(precisao * 100))"
      ],
      "execution_count": 0,
      "outputs": [
        {
          "output_type": "stream",
          "text": [
            "\n",
            "Ativador [relu] e otimizador [lbfgs]\n",
            "Precisão: 89.74358974358975 %\n"
          ],
          "name": "stdout"
        }
      ]
    },
    {
      "cell_type": "code",
      "metadata": {
        "scrolled": false,
        "id": "Dlz98pGbodcu",
        "colab_type": "code",
        "outputId": "67defc8f-fc24-4d2f-b8b4-9d118d337e87",
        "colab": {}
      },
      "source": [
        "clfLogisticLBFGS = MLPClassifier(activation='logistic', solver='lbfgs', hidden_layer_sizes=(5, ), random_state=21, max_iter=2000)\n",
        "clfLogisticLBFGS.fit(X_train, y_train)\n",
        "precisao = clfLogisticLBFGS.score(X_test, y_test)\n",
        "\n",
        "print('\\nAtivador [logistic] e otimizador [lbfgs]')\n",
        "print('Precisão: {} %'.format(precisao * 100))"
      ],
      "execution_count": 0,
      "outputs": [
        {
          "output_type": "stream",
          "text": [
            "\n",
            "Ativador [logistic] e otimizador [lbfgs]\n",
            "Precisão: 92.3076923076923 %\n"
          ],
          "name": "stdout"
        }
      ]
    },
    {
      "cell_type": "markdown",
      "metadata": {
        "id": "UiQ-rpeCodcz",
        "colab_type": "text"
      },
      "source": [
        "# Gráfico de Precisão"
      ]
    },
    {
      "cell_type": "code",
      "metadata": {
        "id": "ZbrhkyPfodcz",
        "colab_type": "code",
        "outputId": "27a8b586-087a-4a7b-e343-68a52d08531e",
        "colab": {}
      },
      "source": [
        "def plot_learning_curve(estimator, title, X, y, ylim=None, cv=None,\n",
        "                        n_jobs=1, train_sizes=np.linspace(.1, 1.0, 5)):\n",
        "    \"\"\"\n",
        "    Generate a simple plot of the test and training learning curve.\n",
        "\n",
        "    Parameters\n",
        "    ----------\n",
        "    estimator : object type that implements the \"fit\" and \"predict\" methods\n",
        "        An object of that type which is cloned for each validation.\n",
        "\n",
        "    title : string\n",
        "        Title for the chart.\n",
        "\n",
        "    X : array-like, shape (n_samples, n_features)\n",
        "        Training vector, where n_samples is the number of samples and\n",
        "        n_features is the number of features.\n",
        "\n",
        "    y : array-like, shape (n_samples) or (n_samples, n_features), optional\n",
        "        Target relative to X for classification or regression;\n",
        "        None for unsupervised learning.\n",
        "\n",
        "    ylim : tuple, shape (ymin, ymax), optional\n",
        "        Defines minimum and maximum yvalues plotted.\n",
        "\n",
        "    cv : int, cross-validation generator or an iterable, optional\n",
        "        Determines the cross-validation splitting strategy.\n",
        "        Possible inputs for cv are:\n",
        "          - None, to use the default 3-fold cross-validation,\n",
        "          - integer, to specify the number of folds.\n",
        "          - An object to be used as a cross-validation generator.\n",
        "          - An iterable yielding train/test splits.\n",
        "\n",
        "        For integer/None inputs, if ``y`` is binary or multiclass,\n",
        "        :class:`StratifiedKFold` used. If the estimator is not a classifier\n",
        "        or if ``y`` is neither binary nor multiclass, :class:`KFold` is used.\n",
        "\n",
        "        Refer :ref:`User Guide <cross_validation>` for the various\n",
        "        cross-validators that can be used here.\n",
        "\n",
        "    n_jobs : integer, optional\n",
        "        Number of jobs to run in parallel (default 1).\n",
        "    \"\"\"\n",
        "    plt.figure()\n",
        "    plt.title(title)\n",
        "    if ylim is not None:\n",
        "        plt.ylim(*ylim)\n",
        "    plt.xlabel(\"Training examples\")\n",
        "    plt.ylabel(\"Score\")\n",
        "    train_sizes, train_scores, test_scores = learning_curve(\n",
        "        estimator, X, y, cv=cv, n_jobs=n_jobs, train_sizes=train_sizes)\n",
        "    train_scores_mean = np.mean(train_scores, axis=1)\n",
        "    train_scores_std = np.std(train_scores, axis=1)\n",
        "    test_scores_mean = np.mean(test_scores, axis=1)\n",
        "    test_scores_std = np.std(test_scores, axis=1)\n",
        "    plt.grid()\n",
        "\n",
        "    plt.fill_between(train_sizes, train_scores_mean - train_scores_std,\n",
        "                     train_scores_mean + train_scores_std, alpha=0.1,\n",
        "                     color=\"r\")\n",
        "    plt.fill_between(train_sizes, test_scores_mean - test_scores_std,\n",
        "                     test_scores_mean + test_scores_std, alpha=0.1, color=\"g\")\n",
        "    plt.plot(train_sizes, train_scores_mean, 'o-', color=\"r\",\n",
        "             label=\"Training score\")\n",
        "    plt.plot(train_sizes, test_scores_mean, 'o-', color=\"g\",\n",
        "             label=\"Cross-validation score\")\n",
        "    plt.grid(True)\n",
        "    plt.legend(loc=\"best\")\n",
        "    return plt\n",
        "\n",
        "title = \"Curva de Aprendizado\"\n",
        "cv = ShuffleSplit(n_splits=10, test_size=0.3, random_state=21)\n",
        "plot_learning_curve(clfLogisticLBFGS, title, X, y, cv=cv, n_jobs=4)\n",
        "\n",
        "plt.show()"
      ],
      "execution_count": 0,
      "outputs": [
        {
          "output_type": "display_data",
          "data": {
            "image/png": "[encoded data removed]",
            "text/plain": [
              "<Figure size 432x288 with 1 Axes>"
            ]
          },
          "metadata": {
            "tags": []
          }
        }
      ]
    },
    {
      "cell_type": "markdown",
      "metadata": {
        "id": "Vcngy97lodc1",
        "colab_type": "text"
      },
      "source": [
        "# Relato\n",
        "\n",
        "A pesquisa, além de oportunizar o aprendizado, proporcionou imensa satisfação. Para a fase de limpeza de dados e divisão de características (X) e classe (y), o domínio da biblioteca pandas acelerou bastante o processo. Após a separação treino-teste e a normalização dos dados, procurei, então, não me ater somente aos passos mínimos, e resolvi extrapolar à procura das melhores arquiteturas que o classificador Multi-layer Perceptron (MLP) da biblioteca Scikit-learn poderia proporcionar, o que resultou na composição da função testarClassificadorMLP() para cálculo do Erro Quadrático Mínimo e Cross-validation de cada uma. Com isso, foi possível descobrir com qual quantidade de neurônios cada uma retornaria o melhor score com os 30% reservados para teste.\n",
        "\n",
        "O otimizador lbfgs, definido na documentação como sendo da família de métodos quasi-Newton, apresentou bons resultados com todas as funções de ativação. Aparentemente, ele retorna melhores resultados em datasets pequenos.\n",
        "\n",
        "O algoritmo utilizado para plotagem do gráfico foi o único de fonte externa, retirado da própria documentação do scikit-learn. Ainda assim, pequenas adaptações foram feitas.\n",
        "\n",
        "Por fim, estou ciente da necessidade de conceitos estatísticos e mais métricas para validação, e me empenharei para aprender tudo isso.\n",
        "\n",
        "Atenciosamente,\n",
        "\n",
        "Bruno Morais Neves de Castro."
      ]
    },
    {
      "cell_type": "markdown",
      "metadata": {
        "id": "HTO5rZ40odc2",
        "colab_type": "text"
      },
      "source": [
        "# ~FIM"
      ]
    }
  ]
}